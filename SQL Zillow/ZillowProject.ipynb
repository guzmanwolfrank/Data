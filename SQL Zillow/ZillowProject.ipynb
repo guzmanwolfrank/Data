{
 "cells": [
  {
   "cell_type": "markdown",
   "metadata": {},
   "source": [
    "## Zillow Top Tier Housing Data\n"
   ]
  },
  {
   "cell_type": "markdown",
   "metadata": {},
   "source": [
    "In this project we will look at the top tier home values across all 50 states. \n",
    "\n",
    "We will be using Zillow's ZHVI Home Value Index. It is a measure of typical home value and market changes across a given region and housing type. It reflects the value for homes in the 35th to 65th percentile range.\n",
    "\n",
    "Zillow publishes top-tier ZHVI ($, typical value for homes within the 65th to 95th percentile range for a given region) and bottom-tier ZHVI.\n",
    "\n",
    "A user guide for this data can be found at: [Zillow](https://www.zillow.com/research/zhvi-user-guide/). "
   ]
  },
  {
   "cell_type": "code",
   "execution_count": 1,
   "metadata": {},
   "outputs": [
    {
     "ename": "ModuleNotFoundError",
     "evalue": "No module named 'geopandas'",
     "output_type": "error",
     "traceback": [
      "\u001b[1;31m---------------------------------------------------------------------------\u001b[0m",
      "\u001b[1;31mModuleNotFoundError\u001b[0m                       Traceback (most recent call last)",
      "\u001b[1;32mguzmanwolfrank\\SQL\\SQL Zillow\\ZillowProject.ipynb Cell 3\u001b[0m line \u001b[0;36m9\n\u001b[0;32m      <a href='vscode-notebook-cell://github%2B7b2276223a312c22726566223a7b2274797065223a342c226964223a2273716c697465227d7d/guzmanwolfrank/SQL/SQL%20Zillow/ZillowProject.ipynb#X16sdnNjb2RlLXZmcw%3D%3D?line=6'>7</a>\u001b[0m \u001b[39mimport\u001b[39;00m \u001b[39mwarnings\u001b[39;00m \n\u001b[0;32m      <a href='vscode-notebook-cell://github%2B7b2276223a312c22726566223a7b2274797065223a342c226964223a2273716c697465227d7d/guzmanwolfrank/SQL/SQL%20Zillow/ZillowProject.ipynb#X16sdnNjb2RlLXZmcw%3D%3D?line=7'>8</a>\u001b[0m \u001b[39mfrom\u001b[39;00m \u001b[39mpandasql\u001b[39;00m \u001b[39mimport\u001b[39;00m sqldf\n\u001b[1;32m----> <a href='vscode-notebook-cell://github%2B7b2276223a312c22726566223a7b2274797065223a342c226964223a2273716c697465227d7d/guzmanwolfrank/SQL/SQL%20Zillow/ZillowProject.ipynb#X16sdnNjb2RlLXZmcw%3D%3D?line=8'>9</a>\u001b[0m \u001b[39mimport\u001b[39;00m \u001b[39mgeopandas\u001b[39;00m \u001b[39mas\u001b[39;00m \u001b[39mgpd\u001b[39;00m \n\u001b[0;32m     <a href='vscode-notebook-cell://github%2B7b2276223a312c22726566223a7b2274797065223a342c226964223a2273716c697465227d7d/guzmanwolfrank/SQL/SQL%20Zillow/ZillowProject.ipynb#X16sdnNjb2RlLXZmcw%3D%3D?line=9'>10</a>\u001b[0m \u001b[39m# Ignore all warnings \u001b[39;00m\n\u001b[0;32m     <a href='vscode-notebook-cell://github%2B7b2276223a312c22726566223a7b2274797065223a342c226964223a2273716c697465227d7d/guzmanwolfrank/SQL/SQL%20Zillow/ZillowProject.ipynb#X16sdnNjb2RlLXZmcw%3D%3D?line=10'>11</a>\u001b[0m warnings\u001b[39m.\u001b[39mfilterwarnings(\u001b[39m'\u001b[39m\u001b[39mignore\u001b[39m\u001b[39m'\u001b[39m)\n",
      "\u001b[1;31mModuleNotFoundError\u001b[0m: No module named 'geopandas'"
     ]
    }
   ],
   "source": [
    "import pandas as pd\n",
    "import seaborn as sns\n",
    "import matplotlib.pyplot as plt\n",
    "import sqlite3\n",
    "import csv \n",
    "import numpy as np \n",
    "import warnings \n",
    "from pandasql import sqldf\n",
    "import geopandas as gpd \n",
    "# Ignore all warnings \n",
    "warnings.filterwarnings('ignore')\n",
    "\n",
    "\n",
    "# Load your data into a DataFrame (assuming it's in a CSV file)\n",
    "\n",
    "csv_file = r\"C:\\Users\\Wolfrank\\Desktop\\Zillow.csv\"\n",
    "data = pd.read_csv(csv_file)\n",
    "df = data\n"
   ]
  },
  {
   "cell_type": "markdown",
   "metadata": {},
   "source": []
  },
  {
   "cell_type": "markdown",
   "metadata": {},
   "source": [
    "### Cleaning the Data \n"
   ]
  },
  {
   "cell_type": "code",
   "execution_count": null,
   "metadata": {},
   "outputs": [],
   "source": [
    "\n",
    "# Next we clean up the data in the dataframe we just created, then we save the new file.\n",
    "\n",
    "# Data Cleaning:  Drop Columns \n",
    "columns_to_remove = ['RegionID', 'RegionType', 'StateName',]\n",
    "data.drop(columns=columns_to_remove, inplace=True)\n",
    "\n",
    "# Rename Column from RegionName to State\n",
    "df.rename(columns={'RegionName': 'State'}, inplace=True)\n",
    "\n",
    "# Add 1 to Index \n",
    "df.index = df.index + 1\n",
    "\n",
    "# Add 1 to SizeRank \n",
    "df['SizeRank'] = df['SizeRank'] + 1\n",
    "\n",
    "# Show number of columns\n",
    "num_columns = len(data.columns)\n",
    "print(\"Number of columns:\", num_columns)\n",
    "\n",
    "display(df)"
   ]
  },
  {
   "cell_type": "code",
   "execution_count": null,
   "metadata": {},
   "outputs": [],
   "source": [
    "# Get the column names and join them with a comma\n",
    "column_names = ','.join(df.columns)\n",
    "\n",
    "print(column_names)\n"
   ]
  },
  {
   "cell_type": "code",
   "execution_count": null,
   "metadata": {},
   "outputs": [],
   "source": [
    "\n",
    "# Load the CSV data into a SQLite database\n",
    "con = sqlite3.connect('zillow_data.db')\n",
    "\n",
    "df.to_sql('zillow_data', con, if_exists='replace', index=False)\n",
    "\n",
    "# Define SQL queries for analysis\n",
    "query1 = \"\"\"\n",
    "SELECT State, AVG(\"7/31/2019\") AS AvgHomeValue\n",
    "FROM zillow_data\n",
    "GROUP BY State\n",
    "\"\"\"\n",
    "\n",
    "query2 =  \"\"\"\n",
    "SELECT State, AVG(\"7/31/2023\") AS AvgHomeValue\n",
    "FROM zillow_data\n",
    "GROUP BY State\n",
    "\"\"\"\n",
    "\n",
    "query3 = \"\"\"\n",
    "SELECT State, AVG(\"7/31/2023\") AS AvgHomeValue\n",
    "FROM zillow_data\n",
    "GROUP BY State\n",
    "ORDER BY AvgHomeValue DESC\n",
    "LIMIT 5\n",
    "\"\"\"\n",
    "\n",
    "query4 = \"\"\"\n",
    "SELECT State, (\"7/31/2023\" - \"7/31/2019\") AS ChangeInValue\n",
    "FROM zillow_data\n",
    "ORDER BY ChangeInValue DESC\n",
    "LIMIT 5\n",
    "\"\"\"\n",
    "\n",
    "query5 = \"\"\"\n",
    "SELECT State, \"7/31/2023\" AS HomeValue\n",
    "FROM zillow_data\n",
    "WHERE \"7/31/2023\" = (SELECT MAX(\"7/31/2023\") FROM zillow_data)\n",
    "\"\"\"\n",
    "\n",
    "\n",
    "# Execute queries and fetch results\n",
    "query_results = []\n",
    "\n",
    "for query in [query1, query2, query3, query4, query5]:\n",
    "    result = pd.read_sql_query(query, con)\n",
    "    query_results.append(result)\n",
    "\n",
    "# Create Seaborn charts\n",
    "sns.set(style=\"darkgrid\")\n",
    "\n",
    "# Chart 1: Average home values by state in September 2021\n",
    "plt.figure(figsize=(12, 6))\n",
    "sns.barplot(data=query_results[1], x='AvgHomeValue', y='State')\n",
    "plt.title('Average Home Values by State in July 2019')\n",
    "plt.xlabel('Average Home Value')\n",
    "plt.ylabel('State')\n",
    "\n",
    "# Chart 2: Average home values by state in September 2021\n",
    "plt.figure(figsize=(12, 6))\n",
    "sns.barplot(data=query_results[0], x='AvgHomeValue', y='State')\n",
    "plt.title('Average Home Values by State in July 2023')\n",
    "plt.xlabel('Average Home Value')\n",
    "plt.ylabel('State')\n",
    "\n",
    "# Chart 3: Top 5 states with the highest average home values in May 2023\n",
    "plt.figure(figsize=(12, 6))\n",
    "sns.barplot(data=query_results[2], x='AvgHomeValue', y='State')\n",
    "plt.title('Top 5 States with the Highest Average Home Values in July 2023')\n",
    "plt.xlabel('Average Home Value')\n",
    "plt.ylabel('State')\n",
    "\n",
    "#Chart 4:  Execute the query and fetch results\n",
    "result4 = pd.read_sql_query(query4, con)\n",
    "# Create Seaborn histogram chart\n",
    "sns.set(style=\"whitegrid\")\n",
    "plt.figure(figsize=(12, 6))\n",
    "sns.barplot(data=result4, x='ChangeInValue', y='State', palette='viridis')\n",
    "plt.title('Top 5 States with Highest Change in Home Values (Jul 2019 to Jul 2023)')\n",
    "plt.xlabel('Change in Home Value')\n",
    "plt.ylabel('State')\n",
    "\n",
    "# Chart 5: Monthly trend of home values for the top-ranked state in May 2023\n",
    "# Execute the query and fetch the result\n",
    "result5 = pd.read_sql_query(query5, con)\n",
    "# Load the US shapefile for creating the map\n",
    "world = gpd.read_file(gpd.datasets.get_path('naturalearth_lowres'))\n",
    "# Filter the shapefile to contain only the United States\n",
    "us_shapefile = world[world['name'] == 'United States']\n",
    "# Merge the shapefile with the result to highlight the state\n",
    "us_shapefile = us_shapefile.merge(result5, left_on='name', right_on='State', how='left')\n",
    "# Create the map\n",
    "fig, ax = plt.subplots(figsize=(12, 8))\n",
    "us_shapefile.plot(column='HomeValue', cmap='Blues', linewidth=0.8, ax=ax, edgecolor='0.8', legend=True)\n",
    "ax.set_title('State with Highest Home Value (Jul 2023)')\n",
    "\n",
    "\n",
    "# Show the charts\n",
    "plt.show()\n",
    "\n",
    "# Close the database connection\n",
    "con.close()\n"
   ]
  }
 ],
 "metadata": {
  "kernelspec": {
   "display_name": ".data",
   "language": "python",
   "name": "python3"
  },
  "language_info": {
   "codemirror_mode": {
    "name": "ipython",
    "version": 3
   },
   "file_extension": ".py",
   "mimetype": "text/x-python",
   "name": "python",
   "nbconvert_exporter": "python",
   "pygments_lexer": "ipython3",
   "version": "3.11.3"
  },
  "orig_nbformat": 4
 },
 "nbformat": 4,
 "nbformat_minor": 2
}
