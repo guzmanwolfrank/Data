{
 "cells": [
  {
   "cell_type": "code",
   "execution_count": 12,
   "metadata": {},
   "outputs": [
    {
     "ename": "FileNotFoundError",
     "evalue": "[Errno 2] No such file or directory: 'Queries.sql'",
     "output_type": "error",
     "traceback": [
      "\u001b[1;31m---------------------------------------------------------------------------\u001b[0m",
      "\u001b[1;31mFileNotFoundError\u001b[0m                         Traceback (most recent call last)",
      "\u001b[1;32mguzmanwolfrank\\SQL\\SQL Zillow\\SQLZillow1.ipynb Cell 1\u001b[0m line \u001b[0;36m1\n\u001b[0;32m      <a href='vscode-notebook-cell://github%2B7b2276223a312c22726566223a7b2274797065223a342c226964223a226d61696e227d7d/guzmanwolfrank/SQL/SQL%20Zillow/SQLZillow1.ipynb#W1sdnNjb2RlLXZmcw%3D%3D?line=7'>8</a>\u001b[0m \u001b[39m# Step 2: Read and execute SQL commands from the .sql file.\u001b[39;00m\n\u001b[0;32m      <a href='vscode-notebook-cell://github%2B7b2276223a312c22726566223a7b2274797065223a342c226964223a226d61696e227d7d/guzmanwolfrank/SQL/SQL%20Zillow/SQLZillow1.ipynb#W1sdnNjb2RlLXZmcw%3D%3D?line=8'>9</a>\u001b[0m sql_file \u001b[39m=\u001b[39m \u001b[39m'\u001b[39m\u001b[39mQueries.sql\u001b[39m\u001b[39m'\u001b[39m  \u001b[39m# Replace with the path to your SQL file.\u001b[39;00m\n\u001b[1;32m---> <a href='vscode-notebook-cell://github%2B7b2276223a312c22726566223a7b2274797065223a342c226964223a226d61696e227d7d/guzmanwolfrank/SQL/SQL%20Zillow/SQLZillow1.ipynb#W1sdnNjb2RlLXZmcw%3D%3D?line=9'>10</a>\u001b[0m \u001b[39mwith\u001b[39;00m \u001b[39mopen\u001b[39;49m(sql_file, \u001b[39m'\u001b[39;49m\u001b[39mr\u001b[39;49m\u001b[39m'\u001b[39;49m) \u001b[39mas\u001b[39;00m file:\n\u001b[0;32m     <a href='vscode-notebook-cell://github%2B7b2276223a312c22726566223a7b2274797065223a342c226964223a226d61696e227d7d/guzmanwolfrank/SQL/SQL%20Zillow/SQLZillow1.ipynb#W1sdnNjb2RlLXZmcw%3D%3D?line=10'>11</a>\u001b[0m     sql_commands \u001b[39m=\u001b[39m file\u001b[39m.\u001b[39mread()\n\u001b[0;32m     <a href='vscode-notebook-cell://github%2B7b2276223a312c22726566223a7b2274797065223a342c226964223a226d61696e227d7d/guzmanwolfrank/SQL/SQL%20Zillow/SQLZillow1.ipynb#W1sdnNjb2RlLXZmcw%3D%3D?line=11'>12</a>\u001b[0m     cursor\u001b[39m.\u001b[39mexecutescript(sql_commands)\n",
      "File \u001b[1;32mc:\\Users\\Wolfrank\\Desktop\\CodeWolf\\inprogress\\.data\\Lib\\site-packages\\IPython\\core\\interactiveshell.py:284\u001b[0m, in \u001b[0;36m_modified_open\u001b[1;34m(file, *args, **kwargs)\u001b[0m\n\u001b[0;32m    277\u001b[0m \u001b[39mif\u001b[39;00m file \u001b[39min\u001b[39;00m {\u001b[39m0\u001b[39m, \u001b[39m1\u001b[39m, \u001b[39m2\u001b[39m}:\n\u001b[0;32m    278\u001b[0m     \u001b[39mraise\u001b[39;00m \u001b[39mValueError\u001b[39;00m(\n\u001b[0;32m    279\u001b[0m         \u001b[39mf\u001b[39m\u001b[39m\"\u001b[39m\u001b[39mIPython won\u001b[39m\u001b[39m'\u001b[39m\u001b[39mt let you open fd=\u001b[39m\u001b[39m{\u001b[39;00mfile\u001b[39m}\u001b[39;00m\u001b[39m by default \u001b[39m\u001b[39m\"\u001b[39m\n\u001b[0;32m    280\u001b[0m         \u001b[39m\"\u001b[39m\u001b[39mas it is likely to crash IPython. If you know what you are doing, \u001b[39m\u001b[39m\"\u001b[39m\n\u001b[0;32m    281\u001b[0m         \u001b[39m\"\u001b[39m\u001b[39myou can use builtins\u001b[39m\u001b[39m'\u001b[39m\u001b[39m open.\u001b[39m\u001b[39m\"\u001b[39m\n\u001b[0;32m    282\u001b[0m     )\n\u001b[1;32m--> 284\u001b[0m \u001b[39mreturn\u001b[39;00m io_open(file, \u001b[39m*\u001b[39;49margs, \u001b[39m*\u001b[39;49m\u001b[39m*\u001b[39;49mkwargs)\n",
      "\u001b[1;31mFileNotFoundError\u001b[0m: [Errno 2] No such file or directory: 'Queries.sql'"
     ]
    }
   ],
   "source": [
    "import sqlite3\n",
    "\n",
    "# Step 1: Connect to or create an SQLite database.\n",
    "db_name = \"Housing.db\"  # Replace with your desired database name.\n",
    "conn = sqlite3.connect(db_name)\n",
    "cursor = conn.cursor()\n",
    "\n",
    "# Step 2: Read and execute SQL commands from the .sql file.\n",
    "sql_file = 'Queries.sql'  # Replace with the path to your SQL file.\n",
    "with open(sql_file, 'r') as file:\n",
    "    sql_commands = file.read()\n",
    "    cursor.executescript(sql_commands)\n",
    "\n",
    "# Step 3: Commit the changes and close the connection.\n",
    "conn.commit()\n",
    "conn.close()\n",
    "\n",
    "print(\"SQL commands from queries.sql executed successfully.\")\n"
   ]
  }
 ],
 "metadata": {
  "kernelspec": {
   "display_name": ".data",
   "language": "python",
   "name": "python3"
  },
  "language_info": {
   "codemirror_mode": {
    "name": "ipython",
    "version": 3
   },
   "file_extension": ".py",
   "mimetype": "text/x-python",
   "name": "python",
   "nbconvert_exporter": "python",
   "pygments_lexer": "ipython3",
   "version": "3.11.3"
  },
  "orig_nbformat": 4
 },
 "nbformat": 4,
 "nbformat_minor": 2
}
