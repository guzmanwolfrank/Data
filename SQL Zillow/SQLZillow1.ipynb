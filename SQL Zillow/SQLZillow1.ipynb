{
 "cells": [
  {
   "cell_type": "code",
   "execution_count": null,
   "metadata": {},
   "outputs": [],
   "source": [
    "import sqlite3\n",
    "\n",
    "# Step 1: Connect to or create an SQLite database.\n",
    "db_name = \"my_database.db\"  # Replace with your desired database name.\n",
    "conn = sqlite3.connect(db_name)\n",
    "cursor = conn.cursor()\n",
    "\n",
    "# Step 2: Read and execute SQL commands from the .sql file.\n",
    "sql_file = \"queries.sql\"  # Replace with the path to your SQL file.\n",
    "with open(sql_file, 'r') as file:\n",
    "    sql_commands = file.read()\n",
    "    cursor.executescript(sql_commands)\n",
    "\n",
    "# Step 3: Commit the changes and close the connection.\n",
    "conn.commit()\n",
    "conn.close()\n",
    "\n",
    "print(\"SQL commands from queries.sql executed successfully.\")\n"
   ]
  }
 ],
 "metadata": {
  "language_info": {
   "name": "python"
  },
  "orig_nbformat": 4
 },
 "nbformat": 4,
 "nbformat_minor": 2
}
