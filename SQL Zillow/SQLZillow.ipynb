{
 "cells": [
  {
   "cell_type": "markdown",
   "metadata": {},
   "source": [
    "### SQL Zillow Project\n",
    "GitHub: @guzmanwolfrank"
   ]
  },
  {
   "cell_type": "markdown",
   "metadata": {},
   "source": [
    "Volatile changes are occurring in the United States housing market.  Here we look at the data on Home Value to analyze which locations have the highest market values and which locations have sustained an above average move upward in price. "
   ]
  },
  {
   "cell_type": "code",
   "execution_count": null,
   "metadata": {},
   "outputs": [],
   "source": [
    "#Imports\n",
    "import pandas as pd    \n",
    "import numpy as np \n",
    "import seaborn as sns\n",
    "import matplotlib as plt   \n",
    "import warnings \n",
    "\n",
    "# Ignore all warnings \n",
    "warnings.filterwarnings('ignore')"
   ]
  },
  {
   "cell_type": "code",
   "execution_count": null,
   "metadata": {},
   "outputs": [],
   "source": []
  }
 ],
 "metadata": {
  "language_info": {
   "name": "python"
  },
  "orig_nbformat": 4
 },
 "nbformat": 4,
 "nbformat_minor": 2
}
