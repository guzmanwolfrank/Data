{
 "cells": [
  {
   "cell_type": "markdown",
   "metadata": {},
   "source": [
    "### SQL Zillow Project\n",
    "GitHub: @guzmanwolfrank"
   ]
  },
  {
   "cell_type": "markdown",
   "metadata": {},
   "source": [
    "Volatile changes are occurring in the United States housing market.  Here we look at the data on Home Value to analyze which locations have the highest market values and which locations have sustained an above average move upward in price.   "
   ]
  },
  {
   "cell_type": "markdown",
   "metadata": {},
   "source": []
  },
  {
   "cell_type": "code",
   "execution_count": 31,
   "metadata": {},
   "outputs": [],
   "source": [
    "#Imports\n",
    "import sqlite3\n",
    "import pandas as pd    \n",
    "import numpy as np \n",
    "import seaborn as sns\n",
    "import matplotlib as plt   \n",
    "import warnings \n",
    "import csv \n",
    "\n",
    "\n",
    "# Ignore all warnings \n",
    "warnings.filterwarnings('ignore')\n",
    "\n",
    "\n",
    "# Import CSV file and Convert to a Pandas DataFrame\n",
    "csv_file = r\"C:\\Users\\Wolfrank\\Desktop\\Zillow.csv\"\n",
    "df = pd.read_csv(csv_file).round(2)\n",
    "#display(df)"
   ]
  },
  {
   "cell_type": "code",
   "execution_count": 32,
   "metadata": {},
   "outputs": [
    {
     "name": "stdout",
     "output_type": "stream",
     "text": [
      "Index(['RegionID', 'SizeRank', 'RegionName', 'RegionType', 'StateName',\n",
      "       '2000-01-31', '2000-02-29', '2000-03-31', '2000-04-30', '2000-05-31',\n",
      "       ...\n",
      "       '2022-10-31', '2022-11-30', '2022-12-31', '2023-01-31', '2023-02-28',\n",
      "       '2023-03-31', '2023-04-30', '2023-05-31', '2023-06-30', '2023-07-31'],\n",
      "      dtype='object', length=288)\n"
     ]
    }
   ],
   "source": [
    "# Show all columns in df\n",
    "column_names = df.columns\n",
    "print(column_names)\n"
   ]
  },
  {
   "cell_type": "code",
   "execution_count": null,
   "metadata": {},
   "outputs": [],
   "source": [
    "#Clean Data \n",
    "\n"
   ]
  }
 ],
 "metadata": {
  "kernelspec": {
   "display_name": ".data",
   "language": "python",
   "name": "python3"
  },
  "language_info": {
   "codemirror_mode": {
    "name": "ipython",
    "version": 3
   },
   "file_extension": ".py",
   "mimetype": "text/x-python",
   "name": "python",
   "nbconvert_exporter": "python",
   "pygments_lexer": "ipython3",
   "version": "3.11.3"
  },
  "orig_nbformat": 4
 },
 "nbformat": 4,
 "nbformat_minor": 2
}
