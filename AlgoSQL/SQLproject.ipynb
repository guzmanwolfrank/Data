{
 "cells": [
  {
   "cell_type": "code",
   "execution_count": 1,
   "metadata": {},
   "outputs": [],
   "source": [
    "import pandas as pd\n",
    "import sqlite3\n",
    "import seaborn as sns\n",
    "import matplotlib.pyplot as plt\n",
    "\n",
    "# Step 1: Read the CSV File\n",
    "csv_file = r'C:\\Users\\Wolfrank\\Desktop\\sdf.csv'  # Use a raw string for the file path\n",
    "df = pd.read_csv(csv_file)\n",
    "\n",
    "# Step 2: Create a SQLite Database\n",
    "conn = sqlite3.connect('trades.db')  # Replace with your desired database name\n",
    "\n",
    "# Step 3: Write the DataFrame to the Database\n",
    "table_name = 'trades_table'  # Replace with your desired table name\n",
    "df.to_sql(table_name, conn, if_exists='replace', index=False)\n",
    "\n",
    "# Sample SQL queries\n",
    "\n",
    "# 1. Retrieve all rows from the trades_table\n",
    "query = f\"SELECT * FROM {table_name}\"\n",
    "df_all_trades = pd.read_sql_query(query, conn)\n"
   ]
  },
  {
   "cell_type": "code",
   "execution_count": 7,
   "metadata": {},
   "outputs": [
    {
     "name": "stdout",
     "output_type": "stream",
     "text": [
      "The average  of profits is: 953.47\n"
     ]
    }
   ],
   "source": [
    "\n",
    "# 2. Calculate the average profit per trade. \n",
    "query = f\"SELECT AVG(Strat_Profits) AS average_profits FROM {table_name}\"\n",
    "average_profits = pd.read_sql_query(query, conn)['average_profits'].iloc[0].round(2)\n",
    "\n",
    "# Display\n",
    "\n",
    "print(\"The average  of profits is:\", average_profits)"
   ]
  },
  {
   "cell_type": "code",
   "execution_count": null,
   "metadata": {},
   "outputs": [],
   "source": [
    "\n",
    "# 3. Find trades with a profit (Change > 0)\n",
    "query = f\"SELECT * FROM {table_name} WHERE Change > 0\"\n",
    "df_profitable_trades = pd.read_sql_query(query, conn)\n"
   ]
  },
  {
   "cell_type": "code",
   "execution_count": null,
   "metadata": {},
   "outputs": [],
   "source": [
    "\n",
    "# 4. Calculate the total volume for each symbol\n",
    "query = f\"SELECT Symbol, SUM(Volume) AS total_volume FROM {table_name} GROUP BY Symbol\"\n",
    "df_total_volume = pd.read_sql_query(query, conn)\n"
   ]
  },
  {
   "cell_type": "code",
   "execution_count": null,
   "metadata": {},
   "outputs": [],
   "source": [
    "\n",
    "# 5. Find trades with a loss (Change < 0)\n",
    "query = f\"SELECT * FROM {table_name} WHERE Change < 0\"\n",
    "df_loss_trades = pd.read_sql_query(query, conn)\n"
   ]
  },
  {
   "cell_type": "code",
   "execution_count": null,
   "metadata": {},
   "outputs": [],
   "source": [
    "\n",
    "# Data Visualization using Seaborn\n",
    "\n",
    "# 1. Distribution of Shares Traded\n",
    "sns.set(style=\"whitegrid\")\n",
    "plt.figure(figsize=(10, 6))\n",
    "sns.histplot(df_all_trades['Shares'], bins=20, kde=True)\n",
    "plt.xlabel('Shares Traded')\n",
    "plt.title('Distribution of Shares Traded')\n",
    "plt.show()\n",
    "\n",
    "# 2. Profitable vs. Loss Trades (Count)\n",
    "plt.figure(figsize=(18, 16))\n",
    "sns.countplot(x='Win', data=df_all_trades, palette='viridis')\n",
    "plt.xlabel('Trade Profit Amount ')\n",
    "plt.title('Profitable Trades: Count')\n",
    "plt.xticks(rotation=45)\n",
    "plt.show()\n",
    "\n",
    "\n",
    "\n",
    "# 2a. Profitable vs. Loss Trades (Count)\n",
    "plt.figure(figsize=(18, 16))\n",
    "sns.countplot(x='Loss', data=df_all_trades, palette='viridis')\n",
    "plt.xlabel('Trade Loss Amount ')\n",
    "plt.title('Losing Trades: Count')\n",
    "plt.xticks(rotation=45)\n",
    "plt.show()\n",
    "\n",
    "\n",
    "# 3. Total Volume by Symbol (Bar Plot)\n",
    "plt.figure(figsize=(10, 6))\n",
    "sns.barplot(x='Symbol', y='total_volume', data=df_total_volume, palette='Set3')\n",
    "plt.xlabel('Symbol')\n",
    "plt.ylabel('Total Volume')\n",
    "plt.title('Total Volume by Symbol')\n",
    "plt.xticks(rotation=45)\n",
    "plt.show()\n",
    "\n",
    "# 4. Pairwise Relationships (Scatter Plot)\n",
    "sns.pairplot(df_all_trades[['Shares', 'Open', 'High', 'Low', 'Close']])\n",
    "plt.title('Pairwise Relationships')\n",
    "plt.show()\n",
    "\n",
    "# 5. Box Plot of Daily Excess Returns\n",
    "plt.figure(figsize=(8, 6))\n",
    "sns.boxplot(x='Excess_Return', data=df_all_trades, orient='vertical', palette='Pastel1')\n",
    "plt.xlabel('Daily Excess Returns')\n",
    "plt.title('Box Plot of Daily Excess Returns')\n",
    "plt.show()\n",
    "\n",
    "# Displaying the results\n",
    "print(\"Sample Trades Data:\")\n",
    "print(df_all_trades)\n",
    "\n",
    "print(\"\\nAverage Shares Traded:\", average_shares)\n",
    "\n",
    "print(\"\\nProfitable Trades:\")\n",
    "print(df_profitable_trades)\n",
    "\n",
    "print(\"\\nTotal Volume by Symbol:\")\n",
    "print(df_total_volume)\n",
    "\n",
    "print(\"\\nLoss Trades:\")\n",
    "print(df_loss_trades)\n",
    "\n",
    "# Step 4: Close the Database Connection\n",
    "conn.close()"
   ]
  }
 ],
 "metadata": {
  "kernelspec": {
   "display_name": ".data",
   "language": "python",
   "name": "python3"
  },
  "language_info": {
   "codemirror_mode": {
    "name": "ipython",
    "version": 3
   },
   "file_extension": ".py",
   "mimetype": "text/x-python",
   "name": "python",
   "nbconvert_exporter": "python",
   "pygments_lexer": "ipython3",
   "version": "3.11.3"
  },
  "orig_nbformat": 4
 },
 "nbformat": 4,
 "nbformat_minor": 2
}
