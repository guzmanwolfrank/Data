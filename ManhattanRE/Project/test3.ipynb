{
 "cells": [
  {
   "cell_type": "code",
   "execution_count": 1,
   "metadata": {},
   "outputs": [],
   "source": [
    "import pandas as pd\n",
    "from geopy.geocoders import Nominatim\n",
    "\n",
    "# Manhattan zip codes\n",
    "ZIP_CODE = [10001, 10002, 10003, 10004, 10005, 10006, 10007, 10009, 10010, 10011, 10012, 10013,\n",
    "            10014, 10016, 10017, 10018, 10019, 10020, 10021, 10022, 10023, 10024, 10025,\n",
    "            10026, 10027, 10028, 10029, 10030, 10031, 10032, 10033, 10034, 10035, 10036,\n",
    "            10037, 10038, 10039, 10040, 10044, 10045, 10048, 10065, 10069, 10075, 10103,\n",
    "            10111, 10112, 10115, 10118, 10119, 10128, 10152, 10153, 10154, 10162, 10165,\n",
    "            10166, 10167, 10168, 10169, 10170, 10171, 10172, 10173, 10174, 10175, 10176,\n",
    "            10177, 10178, 10199, 10271, 10278, 10279, 10280]\n",
    "\n",
    "# Create an empty DataFrame\n",
    "data = pd.DataFrame(columns=['ZIP_CODE', 'LAT', 'LONG'])\n",
    "\n",
    "# Geocoder setup\n",
    "geolocator = Nominatim(user_agent=\"my_application\")\n",
    "\n",
    "# Iterate through zip codes, get coordinates, and add to DataFrame\n",
    "for ZIP_CODE in ZIP_CODE:\n",
    "    try:\n",
    "        location = geolocator.geocode(f\"{ZIP_CODE}, Manhattan, NY\")\n",
    "        latitude = location.latitude\n",
    "        longitude = location.longitude\n",
    "        data.loc[len(data), :] = {'ZIP_CODE': ZIP_CODE, 'latitude': latitude, 'longitude': longitude}\n",
    "    except Exception as e:\n",
    "        print(f\"Error retrieving coordinates for zipcode {zipcode}: {e}\")\n",
    "\n",
    "# Save DataFrame to CSV\n",
    "data.to_csv('manhattan_coordinates2.csv', index=False)\n",
    "\n",
    "\n",
    "# Print the DataFrame\n",
    "print(data)\n",
    "\n",
    "\n",
    "import pandas as pd\n",
    "\n",
    "# Load the existing CSV spreadsheet\n",
    "xyz_data = pd.read_csv(\"manhattan_coordinates.csv\")\n",
    "\n",
    "# Merge the 'data' DataFrame with 'xyz_data' based on 'zipcode'\n",
    "merged_data = pd.merge(xyz_data, df, on=\"ZIP_CODE\", how=\"outer\")\n",
    "\n",
    "# Save the merged data back to the CSV file\n",
    "merged_data.to_csv(\"xyz.csv\", index=False)\n",
    "\n",
    "display(merged_data)\n"
   ]
  },
  {
   "cell_type": "code",
   "execution_count": null,
   "metadata": {},
   "outputs": [],
   "source": [
    "url = \"https://raw.githubusercontent.com/user/repo/branch/filename\"  # Replace with the actual URL\n",
    "response = requests.get(url)\n",
    "\n",
    "# Check for successful response\n",
    "response.raise_for_status()  # Raise an exception for error codes\n",
    "\n",
    "# Read the file content as text\n",
    "file_content = response.text\n",
    "# Process the text directly\n",
    "print(file_content)\n",
    "import io\n",
    "import pandas as pd\n",
    "\n",
    "# Convert the text to a DataFrame\n",
    "df = pd.read_csv(io.StringIO(file_content))\n",
    "print(df)"
   ]
  }
 ],
 "metadata": {
  "kernelspec": {
   "display_name": "Python 3",
   "language": "python",
   "name": "python3"
  },
  "language_info": {
   "codemirror_mode": {
    "name": "ipython",
    "version": 3
   },
   "file_extension": ".py",
   "mimetype": "text/x-python",
   "name": "python",
   "nbconvert_exporter": "python",
   "pygments_lexer": "ipython3",
   "version": "3.11.3"
  }
 },
 "nbformat": 4,
 "nbformat_minor": 2
}
