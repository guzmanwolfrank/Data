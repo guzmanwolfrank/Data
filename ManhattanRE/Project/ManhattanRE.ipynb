{
 "cells": [
  {
   "cell_type": "markdown",
   "metadata": {},
   "source": [
    "# Analyzing Manhattan Rolling Sales Data from November 2022 to October 2023 using Python and Seaborn\n"
   ]
  },
  {
   "cell_type": "markdown",
   "metadata": {},
   "source": [
    "image goes here"
   ]
  },
  {
   "cell_type": "code",
   "execution_count": 1,
   "metadata": {},
   "outputs": [
    {
     "ename": "",
     "evalue": "",
     "output_type": "error",
     "traceback": [
      "\u001b[1;31mThe Kernel crashed while executing code in the the current cell or a previous cell. Please review the code in the cell(s) to identify a possible cause of the failure. Click <a href='https://aka.ms/vscodeJupyterKernelCrash'>here</a> for more info. View Jupyter <a href='command:jupyter.viewOutput'>log</a> for further details."
     ]
    }
   ],
   "source": [
    "import pandas as pd\n",
    "import sqlite3\n",
    "import matplotlib.pyplot as plt\n",
    "import seaborn as sns\n",
    "import warnings \n",
    "\n",
    "# Ignore all warnings\n",
    "warnings.filterwarnings('ignore')\n",
    "\n",
    "# Step 1: Read the CSV File\n",
    "csv_file = r'C:\\Users\\Wolfrank\\Desktop\\Data-SQL\\ManhattanRE\\Data\\ManhattanData.csv'  # Use a raw string for the file path\n",
    "df = pd.read_csv(csv_file).round(2)\n",
    "\n",
    "# Print or Display DataFrame\n",
    "\n",
    "display(df)\n",
    "\n",
    "\n",
    "# Connect to the SQLite database\n",
    "conn = sqlite3.connect('manhattan_sales.db')\n",
    "\n",
    "# Create the SQL table\n",
    "df.to_sql('sales_data', conn, if_exists='replace', index=False)\n",
    "\n",
    "# Define queries and create visualizations\n",
    "\n",
    "# Query 1: Number of properties sold per neighborhood\n",
    "query1 = \"\"\"\n",
    "SELECT NEIGHBORHOOD, COUNT(*) AS num_sales\n",
    "FROM sales_data\n",
    "GROUP BY NEIGHBORHOOD\n",
    "ORDER BY num_sales DESC\n",
    "\"\"\"\n",
    "df_sales_by_neighborhood = pd.read_sql_query(query1, conn)\n",
    "\n",
    "sns.barplot(x='NEIGHBORHOOD', y='num_sales', data=df_sales_by_neighborhood)\n",
    "plt.xticks(rotation=90)\n",
    "plt.title('Number of Properties Sold per Neighborhood')\n",
    "plt.show()\n",
    "\n",
    "# Query 2: Average sale price per building class category\n",
    "query2 = \"\"\"\n",
    "SELECT BLDGCAT, AVG(SALE_PRICE) AS avg_sale_price\n",
    "FROM sales_data\n",
    "GROUP BY BLDGCAT\n",
    "ORDER BY avg_sale_price DESC\n",
    "\"\"\"\n",
    "df_avg_price_by_category = pd.read_sql_query(query2, conn)\n",
    "\n",
    "sns.barplot(x='BLDGCAT', y='avg_sale_price', data=df_avg_price_by_category)\n",
    "plt.xticks(rotation=90)\n",
    "plt.title('Average Sale Price per Building Class Category')\n",
    "plt.show()\n",
    "\n",
    "# Query 3: Correlation between total units and sale price\n",
    "sns.scatterplot(x='UNITS', y='SALE_PRICE', data=df)\n",
    "plt.title('Correlation between Total Units and Sale Price')\n",
    "plt.show()\n",
    "\n",
    "# Query 4: Distribution of sale price per year built\n",
    "sns.boxplot(x='BUILT', y='SALE_PRICE', data=df)\n",
    "plt.title('Distribution of Sale Price per Year Built')\n",
    "plt.xticks(rotation=45)\n",
    "plt.show()\n",
    "\n",
    "# Query 5: Heatmap of sale price based on building class category and neighborhood\n",
    "df_pivot = df.pivot_table(values='SALE_PRICE', index='BLDGCAT', columns='NEIGHBORHOOD')\n",
    "sns.heatmap(df_pivot, annot=True)\n",
    "plt.title('Heatmap of Sale Price by Building Class Category and Neighborhood')\n",
    "plt.show()\n",
    "\n",
    "# Query 6: Line graph showing total sales per month\n",
    "df['SALE_MONTH'] = pd.to_datetime(df['SALE_DATE']).dt.month\n",
    "df_sales_per_month = df.groupby('SALE_MONTH').agg(count=('SALE_DATE', 'count'))\n",
    "\n",
    "sns.lineplot(x='SALE_MONTH', y='count', data=df_sales_per_month)\n",
    "plt.xlabel('Month')\n",
    "plt.ylabel('Number of Sales')\n",
    "plt.title('Total Sales per Month')\n",
    "plt.show()\n",
    "\n",
    "# Query 7: Stacked histogram of property types sold\n",
    "df_by_types = df.groupby('BLDGDESCRIPTION').agg(count=('SALE_DATE', 'count'))\n",
    "\n",
    "sns.histplot(df_by_types.index, weights='count', cumulative=True)\n",
    "plt.xticks(rotation=90)\n",
    "plt.title('Stacked Histogram of Property Types Sold')\n",
    "plt.show()\n",
    "\n",
    "# Query 8: Donut chart of property sales by tax class at time of sale\n",
    "df_tax_class_sales = df.groupby('TAXCLSALE').agg(count=('SALE_DATE', 'count'))\n",
    "\n",
    "plt.pie(df_tax_class_sales['count'], labels=df_tax_class_sales.index, autopct='%1.1f%%', startangle=90)\n",
    "plt.axis('equal')\n",
    "plt.title('Donut Chart of Property Sales by Tax Class at Time of Sale')\n",
    "plt.show()\n",
    "\n",
    "# Query 9: Scatter plot of sale price vs. land square footage\n",
    "sns.scatterplot(x='LANDSFT', y='SALE_PRICE', data=df)\n",
    "plt.title('Sale Price vs. Land Square Footage')\n",
    "plt.show()\n",
    "\n",
    "\n"
   ]
  },
  {
   "cell_type": "markdown",
   "metadata": {},
   "source": []
  },
  {
   "cell_type": "markdown",
   "metadata": {},
   "source": []
  }
 ],
 "metadata": {
  "kernelspec": {
   "display_name": "Python 3",
   "language": "python",
   "name": "python3"
  },
  "language_info": {
   "codemirror_mode": {
    "name": "ipython",
    "version": 3
   },
   "file_extension": ".py",
   "mimetype": "text/x-python",
   "name": "python",
   "nbconvert_exporter": "python",
   "pygments_lexer": "ipython3",
   "version": "3.11.3"
  }
 },
 "nbformat": 4,
 "nbformat_minor": 2
}
