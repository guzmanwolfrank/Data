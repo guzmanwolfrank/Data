{
 "cells": [
  {
   "cell_type": "markdown",
   "metadata": {},
   "source": [
    "## This is the Code I came up with using Nominatim Module for Python and the requests module in order to sync zipcodes with their lattitude and longtitude.  We can use this data to  analyze the data geographically and visually within dashboards etc. \n"
   ]
  },
  {
   "cell_type": "code",
   "execution_count": null,
   "metadata": {},
   "outputs": [],
   "source": [
    "import pandas as pd\n",
    "from geopy.geocoders import Nominatim\n",
    "import requests \n",
    "\n",
    "\n",
    "\n",
    "# Manhattan zip codes\n",
    "ZIP_CODE = [10001, 10002, 10003, 10004, 10005, 10006, 10007, 10009, 10010, 10011, 10012, 10013,\n",
    "            10014, 10016, 10017, 10018, 10019, 10020, 10021, 10022, 10023, 10024, 10025,\n",
    "            10026, 10027, 10028, 10029, 10030, 10031, 10032, 10033, 10034, 10035, 10036,\n",
    "            10037, 10038, 10039, 10040, 10044, 10045, 10048, 10065, 10069, 10075, 10103,\n",
    "            10111, 10112, 10115, 10118, 10119, 10128, 10152, 10153, 10154, 10162, 10165,\n",
    "            10166, 10167, 10168, 10169, 10170, 10171, 10172, 10173, 10174, 10175, 10176,\n",
    "            10177, 10178, 10199, 10271, 10278, 10279, 10280]\n",
    "\n",
    "# Create an empty DataFrame\n",
    "data = pd.DataFrame(columns=['ZIP_CODE', 'LAT', 'LONG'])\n",
    "df = data  \n",
    "\n",
    "# Geocoder setup\n",
    "geolocator = Nominatim(user_agent=\"my_application\")\n",
    "\n",
    "# Iterate through zip codes, get coordinates, and add to DataFrame\n",
    "for ZIP_CODE in ZIP_CODE:\n",
    "    try:\n",
    "        location = geolocator.geocode(f\"{ZIP_CODE}, Manhattan, NY\")\n",
    "        latitude = location.latitude\n",
    "        longitude = location.longitude\n",
    "        data.loc[len(data), :] = {'ZIP_CODE': ZIP_CODE, 'LAT': latitude, 'LONG': longitude}\n",
    "    except Exception as e:\n",
    "        print(f\"Error retrieving coordinates for zipcode {ZIP_CODE}: {e}\")\n",
    "\n",
    "\n",
    "\n",
    "# Print the DataFrame\n",
    "print(data)\n"
   ]
  },
  {
   "cell_type": "markdown",
   "metadata": {},
   "source": [
    "## We can now use the dataframe to output to a csv file, we call this file manzip_coordinates. \n",
    "## This file can be found at : https://raw.githubusercontent.com/guzmanwolfrank/Data-SQL/main/ManhattanRE/Data/manzip_coordinates.csv"
   ]
  },
  {
   "cell_type": "markdown",
   "metadata": {},
   "source": [
    "## The next step is to clean the data and merge it with the Manhattan Data CSV from the NYC Government data site. By doing so, using merge by Zip Code, we can have a spreadsheet with longitude and lattitude coordinates to use for our Tableau dashboard. "
   ]
  },
  {
   "cell_type": "markdown",
   "metadata": {},
   "source": [
    "## You can find the merge script [here](#)!"
   ]
  },
  {
   "cell_type": "code",
   "execution_count": null,
   "metadata": {},
   "outputs": [],
   "source": []
  }
 ],
 "metadata": {
  "language_info": {
   "name": "python"
  }
 },
 "nbformat": 4,
 "nbformat_minor": 2
}
