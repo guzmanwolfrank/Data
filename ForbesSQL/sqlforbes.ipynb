{
 "cells": [
  {
   "cell_type": "code",
   "execution_count": null,
   "metadata": {},
   "outputs": [],
   "source": [
    "import pandas as pd\n",
    "import warnings\n",
    "\n",
    "# Ignore all warnings\n",
    "warnings.filterwarnings(\"ignore\")\n",
    "\n",
    "# Specify the path to your CSV file using a raw string\n",
    "file_path = r'C:\\Users\\wolfr\\Desktop\\Data-SQL\\Data-SQL\\ForbesSQL\\Billionaires Statistics Dataset - Billionaires Statistics Dataset.csv'\n",
    "\n",
    "\n",
    "# Read the CSV file into a DataFrame\n",
    "dataframe = pd.read_csv(file_path)\n",
    "    \n",
    "# Display the first few rows of the DataFrame\n",
    "display(dataframe.head())\n",
    "\n",
    "# Display all the column names in the DataFrame\n",
    "print(\"Column names in the DataFrame:\")\n",
    "display(dataframe.columns)"
   ]
  }
 ],
 "metadata": {
  "language_info": {
   "name": "python"
  }
 },
 "nbformat": 4,
 "nbformat_minor": 2
}
